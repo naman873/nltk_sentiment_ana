{
 "cells": [
  {
   "cell_type": "code",
   "execution_count": 1,
   "metadata": {},
   "outputs": [],
   "source": [
    "import numpy as np\n",
    "import matplotlib.pyplot as plt\n",
    "import string\n",
    "from nltk.corpus import stopwords\n",
    "import nltk\n",
    "from collections import Counter\n",
    "import GetOldTweets3 as got"
   ]
  },
  {
   "cell_type": "code",
   "execution_count": 2,
   "metadata": {},
   "outputs": [],
   "source": [
    "#nltk.download()"
   ]
  },
  {
   "cell_type": "code",
   "execution_count": 134,
   "metadata": {},
   "outputs": [],
   "source": [
    "def get_old_tweet():\n",
    "    tweetCriteria = got.manager.TweetCriteria().setQuerySearch('corona virus') \\\n",
    "    .setSince(\"2020-06-1\")\\\n",
    "    .setUntil(\"2020-06-30\")\\\n",
    "    .setMaxTweets(1000)\n",
    "    tweet = got.manager.TweetManager.getTweets(tweetCriteria)\n",
    "\t \n",
    "    tweets=[]\n",
    "    for text in tweet:\n",
    "        tweets.append(text.text)\n",
    "    #print(tweet.text)\n",
    "    return tweets"
   ]
  },
  {
   "cell_type": "code",
   "execution_count": 135,
   "metadata": {},
   "outputs": [],
   "source": [
    "text=\"\"\n",
    "tweets=get_old_tweet()"
   ]
  },
  {
   "cell_type": "code",
   "execution_count": 136,
   "metadata": {},
   "outputs": [],
   "source": [
    "#text"
   ]
  },
  {
   "cell_type": "code",
   "execution_count": 137,
   "metadata": {},
   "outputs": [],
   "source": [
    "length=len(tweets)"
   ]
  },
  {
   "cell_type": "code",
   "execution_count": 138,
   "metadata": {},
   "outputs": [
    {
     "data": {
      "text/plain": [
       "1000"
      ]
     },
     "execution_count": 138,
     "metadata": {},
     "output_type": "execute_result"
    }
   ],
   "source": [
    "length"
   ]
  },
  {
   "cell_type": "code",
   "execution_count": 139,
   "metadata": {},
   "outputs": [],
   "source": [
    "#tweets"
   ]
  },
  {
   "cell_type": "code",
   "execution_count": 140,
   "metadata": {},
   "outputs": [],
   "source": [
    "for i in range(0,length):\n",
    "    text=tweets[i]+ \" \" +text"
   ]
  },
  {
   "cell_type": "code",
   "execution_count": 141,
   "metadata": {},
   "outputs": [],
   "source": [
    "#text"
   ]
  },
  {
   "cell_type": "code",
   "execution_count": null,
   "metadata": {},
   "outputs": [],
   "source": []
  },
  {
   "cell_type": "code",
   "execution_count": 142,
   "metadata": {},
   "outputs": [],
   "source": [
    "tokenized_words = text.split()"
   ]
  },
  {
   "cell_type": "code",
   "execution_count": 143,
   "metadata": {},
   "outputs": [],
   "source": [
    "#tokenized_words"
   ]
  },
  {
   "cell_type": "code",
   "execution_count": 144,
   "metadata": {},
   "outputs": [],
   "source": [
    "punc=string.punctuation"
   ]
  },
  {
   "cell_type": "code",
   "execution_count": 145,
   "metadata": {},
   "outputs": [],
   "source": [
    "final=[]\n",
    "for word in tokenized_words:\n",
    "    if word not in punc:\n",
    "        final.append(word)\n",
    "    else:\n",
    "        continue\n"
   ]
  },
  {
   "cell_type": "code",
   "execution_count": 146,
   "metadata": {},
   "outputs": [],
   "source": [
    "#final"
   ]
  },
  {
   "cell_type": "code",
   "execution_count": null,
   "metadata": {},
   "outputs": [],
   "source": []
  },
  {
   "cell_type": "code",
   "execution_count": null,
   "metadata": {},
   "outputs": [],
   "source": []
  },
  {
   "cell_type": "code",
   "execution_count": 147,
   "metadata": {},
   "outputs": [],
   "source": [
    "finals_word=[]\n",
    "for word in final:\n",
    "    if word not in stopwords.words('english'):\n",
    "        finals_word.append(word)\n",
    "    else:\n",
    "        continue"
   ]
  },
  {
   "cell_type": "code",
   "execution_count": 148,
   "metadata": {},
   "outputs": [],
   "source": [
    "#finals_word"
   ]
  },
  {
   "cell_type": "code",
   "execution_count": 149,
   "metadata": {},
   "outputs": [],
   "source": [
    "emotion_list=[]\n",
    "with open(\"emotions.txt\",\"r\") as file:\n",
    "    for line in file:\n",
    "        clean_line=line.replace(\"/n\",\"\").replace(\",\",'').replace(\"'\",'').strip()\n",
    "        word,emotion=clean_line.split(\":\")\n",
    "        #print(emotion)\n",
    "        \n",
    "        if word in finals_word:\n",
    "            emotion_list.append(emotion)"
   ]
  },
  {
   "cell_type": "code",
   "execution_count": 150,
   "metadata": {},
   "outputs": [
    {
     "data": {
      "text/plain": [
       "[' attracted',\n",
       " ' sad',\n",
       " ' angry',\n",
       " ' fearless',\n",
       " ' average',\n",
       " ' attached',\n",
       " ' attracted',\n",
       " ' free',\n",
       " ' happy',\n",
       " ' happy',\n",
       " ' hated',\n",
       " ' entitled',\n",
       " ' happy',\n",
       " ' attracted',\n",
       " ' powerless',\n",
       " ' lost',\n",
       " ' attached',\n",
       " ' sad',\n",
       " ' angry',\n",
       " ' attracted',\n",
       " ' powerless',\n",
       " ' safe',\n",
       " ' adequate',\n",
       " ' sad',\n",
       " ' fearful',\n",
       " ' independent',\n",
       " ' sad',\n",
       " ' surprise',\n",
       " ' fearful',\n",
       " ' fearful',\n",
       " ' powerless',\n",
       " ' fearful',\n",
       " ' average',\n",
       " ' focused',\n",
       " ' happy',\n",
       " ' loved',\n",
       " ' sad',\n",
       " ' happy']"
      ]
     },
     "execution_count": 150,
     "metadata": {},
     "output_type": "execute_result"
    }
   ],
   "source": [
    "emotion_list"
   ]
  },
  {
   "cell_type": "code",
   "execution_count": null,
   "metadata": {},
   "outputs": [],
   "source": []
  },
  {
   "cell_type": "code",
   "execution_count": 151,
   "metadata": {},
   "outputs": [],
   "source": [
    "w=Counter(emotion_list)"
   ]
  },
  {
   "cell_type": "code",
   "execution_count": 152,
   "metadata": {},
   "outputs": [
    {
     "data": {
      "text/plain": [
       "Counter({' attracted': 4,\n",
       "         ' sad': 5,\n",
       "         ' angry': 2,\n",
       "         ' fearless': 1,\n",
       "         ' average': 2,\n",
       "         ' attached': 2,\n",
       "         ' free': 1,\n",
       "         ' happy': 5,\n",
       "         ' hated': 1,\n",
       "         ' entitled': 1,\n",
       "         ' powerless': 3,\n",
       "         ' lost': 1,\n",
       "         ' safe': 1,\n",
       "         ' adequate': 1,\n",
       "         ' fearful': 4,\n",
       "         ' independent': 1,\n",
       "         ' surprise': 1,\n",
       "         ' focused': 1,\n",
       "         ' loved': 1})"
      ]
     },
     "execution_count": 152,
     "metadata": {},
     "output_type": "execute_result"
    }
   ],
   "source": [
    "w"
   ]
  },
  {
   "cell_type": "code",
   "execution_count": 153,
   "metadata": {},
   "outputs": [
    {
     "data": {
      "image/png": "[encoded data removed]",
      "text/plain": [
       "<Figure size 432x288 with 1 Axes>"
      ]
     },
     "metadata": {
      "needs_background": "light"
     },
     "output_type": "display_data"
    }
   ],
   "source": [
    "fig,ax1=plt.subplots()\n",
    "ax1.bar(w.keys(),w.values())\n",
    "fig.autofmt_xdate()  ## used to rotatex axis values\n",
    "plt.show()"
   ]
  },
  {
   "cell_type": "code",
   "execution_count": null,
   "metadata": {},
   "outputs": [],
   "source": [
    "    "
   ]
  },
  {
   "cell_type": "code",
   "execution_count": null,
   "metadata": {},
   "outputs": [],
   "source": []
  },
  {
   "cell_type": "code",
   "execution_count": null,
   "metadata": {},
   "outputs": [],
   "source": []
  }
 ],
 "metadata": {
  "kernelspec": {
   "display_name": "Python 3",
   "language": "python",
   "name": "python3"
  },
  "language_info": {
   "codemirror_mode": {
    "name": "ipython",
    "version": 3
   },
   "file_extension": ".py",
   "mimetype": "text/x-python",
   "name": "python",
   "nbconvert_exporter": "python",
   "pygments_lexer": "ipython3",
   "version": "3.7.6"
  }
 },
 "nbformat": 4,
 "nbformat_minor": 4
}
