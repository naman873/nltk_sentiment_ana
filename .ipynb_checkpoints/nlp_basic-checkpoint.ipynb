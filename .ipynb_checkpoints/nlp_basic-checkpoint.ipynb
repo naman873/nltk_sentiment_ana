{
 "cells": [
  {
   "cell_type": "code",
   "execution_count": 173,
   "metadata": {},
   "outputs": [],
   "source": [
    "from nltk.corpus import stopwords\n",
    "from nltk.tokenize import word_tokenize,sent_tokenize\n",
    "from nltk.stem.lancaster import LancasterStemmer\n",
    "from nltk.stem.snowball import PorterStemmer,SnowballStemmer\n",
    "import string\n",
    "from nltk.stem import WordNetLemmatizer\n",
    "from nltk.tag import pos_tag\n",
    "import nltk\n",
    "from nltk.util import ngrams"
   ]
  },
  {
   "cell_type": "code",
   "execution_count": null,
   "metadata": {},
   "outputs": [],
   "source": []
  },
  {
   "cell_type": "code",
   "execution_count": 174,
   "metadata": {},
   "outputs": [],
   "source": [
    "a=\"i am naman . I am pranaam . i am aman . what is your name ?  /\""
   ]
  },
  {
   "cell_type": "code",
   "execution_count": 175,
   "metadata": {},
   "outputs": [],
   "source": [
    "### tokenization"
   ]
  },
  {
   "cell_type": "code",
   "execution_count": 176,
   "metadata": {},
   "outputs": [],
   "source": [
    "#sent_tokenize(a)"
   ]
  },
  {
   "cell_type": "code",
   "execution_count": 177,
   "metadata": {},
   "outputs": [],
   "source": [
    "a=word_tokenize(a)"
   ]
  },
  {
   "cell_type": "code",
   "execution_count": 178,
   "metadata": {},
   "outputs": [
    {
     "data": {
      "text/plain": [
       "['i',\n",
       " 'am',\n",
       " 'naman',\n",
       " '.',\n",
       " 'I',\n",
       " 'am',\n",
       " 'pranaam',\n",
       " '.',\n",
       " 'i',\n",
       " 'am',\n",
       " 'aman',\n",
       " '.',\n",
       " 'what',\n",
       " 'is',\n",
       " 'your',\n",
       " 'name',\n",
       " '?',\n",
       " '/']"
      ]
     },
     "execution_count": 178,
     "metadata": {},
     "output_type": "execute_result"
    }
   ],
   "source": [
    "a"
   ]
  },
  {
   "cell_type": "code",
   "execution_count": 179,
   "metadata": {},
   "outputs": [
    {
     "data": {
      "text/plain": [
       "['i',\n",
       " 'am',\n",
       " 'naman',\n",
       " 'i',\n",
       " 'am',\n",
       " 'pranaam',\n",
       " 'i',\n",
       " 'am',\n",
       " 'aman',\n",
       " 'what',\n",
       " 'is',\n",
       " 'your',\n",
       " 'name']"
      ]
     },
     "execution_count": 179,
     "metadata": {},
     "output_type": "execute_result"
    }
   ],
   "source": [
    "## normalization \n",
    "\n",
    "a=[b.lower() for b in a]\n",
    "#a=a.upper()\n",
    "\n",
    "punc=string.punctuation\n",
    "\n",
    "b=[b for b in a if b not in punc]\n",
    "b"
   ]
  },
  {
   "cell_type": "code",
   "execution_count": null,
   "metadata": {},
   "outputs": [],
   "source": []
  },
  {
   "cell_type": "code",
   "execution_count": 180,
   "metadata": {},
   "outputs": [
    {
     "name": "stdout",
     "output_type": "stream",
     "text": [
      "i\n",
      "am\n",
      "nam\n",
      "i\n",
      "am\n",
      "pranaam\n",
      "i\n",
      "am\n",
      "am\n",
      "what\n",
      "is\n",
      "yo\n",
      "nam\n"
     ]
    }
   ],
   "source": [
    "for word in b:\n",
    "    print(LancasterStemmer().stem(word))"
   ]
  },
  {
   "cell_type": "code",
   "execution_count": 181,
   "metadata": {},
   "outputs": [],
   "source": [
    "### stemming"
   ]
  },
  {
   "cell_type": "code",
   "execution_count": 182,
   "metadata": {},
   "outputs": [
    {
     "data": {
      "text/plain": [
       "'good'"
      ]
     },
     "execution_count": 182,
     "metadata": {},
     "output_type": "execute_result"
    }
   ],
   "source": [
    "#LancasterStemmer().stem(\"running\")\n",
    "#SnowballStemmer(language=\"english\").stem(\"running\")\n",
    "#PorterStemmer().stem(\"running\")\n",
    "\n",
    "LancasterStemmer().stem(\"good\")  ### it fail in this condition"
   ]
  },
  {
   "cell_type": "code",
   "execution_count": null,
   "metadata": {},
   "outputs": [],
   "source": []
  },
  {
   "cell_type": "code",
   "execution_count": 183,
   "metadata": {},
   "outputs": [],
   "source": [
    "### Lemmatization"
   ]
  },
  {
   "cell_type": "code",
   "execution_count": 184,
   "metadata": {},
   "outputs": [
    {
     "data": {
      "text/plain": [
       "'good'"
      ]
     },
     "execution_count": 184,
     "metadata": {},
     "output_type": "execute_result"
    }
   ],
   "source": [
    "WordNetLemmatizer().lemmatize(\"goods\")"
   ]
  },
  {
   "cell_type": "code",
   "execution_count": null,
   "metadata": {},
   "outputs": [],
   "source": []
  },
  {
   "cell_type": "code",
   "execution_count": 185,
   "metadata": {},
   "outputs": [],
   "source": [
    "## from above both stemming is most used and it is easy"
   ]
  },
  {
   "cell_type": "code",
   "execution_count": null,
   "metadata": {},
   "outputs": [],
   "source": []
  },
  {
   "cell_type": "code",
   "execution_count": null,
   "metadata": {},
   "outputs": [],
   "source": []
  },
  {
   "cell_type": "code",
   "execution_count": 186,
   "metadata": {},
   "outputs": [],
   "source": [
    "### stopwords"
   ]
  },
  {
   "cell_type": "code",
   "execution_count": 187,
   "metadata": {},
   "outputs": [],
   "source": [
    "#stopwords.words(\"french\")\n",
    "#stopwords.words(\"english\")\n",
    "#nltk.corpus.brown.words()"
   ]
  },
  {
   "cell_type": "code",
   "execution_count": null,
   "metadata": {},
   "outputs": [],
   "source": []
  },
  {
   "cell_type": "code",
   "execution_count": 188,
   "metadata": {},
   "outputs": [],
   "source": [
    "##pos tags   ### in this we assign category to the tokenized parts os speech"
   ]
  },
  {
   "cell_type": "code",
   "execution_count": 189,
   "metadata": {},
   "outputs": [],
   "source": [
    "c=pos_tag(a)"
   ]
  },
  {
   "cell_type": "code",
   "execution_count": 190,
   "metadata": {},
   "outputs": [
    {
     "data": {
      "text/plain": [
       "[('i', 'NN'),\n",
       " ('am', 'VBP'),\n",
       " ('naman', 'JJ'),\n",
       " ('.', '.'),\n",
       " ('i', 'NN'),\n",
       " ('am', 'VBP'),\n",
       " ('pranaam', 'NN'),\n",
       " ('.', '.'),\n",
       " ('i', 'VB'),\n",
       " ('am', 'VBP'),\n",
       " ('aman', 'RB'),\n",
       " ('.', '.'),\n",
       " ('what', 'WP'),\n",
       " ('is', 'VBZ'),\n",
       " ('your', 'PRP$'),\n",
       " ('name', 'NN'),\n",
       " ('?', '.'),\n",
       " ('/', 'NN')]"
      ]
     },
     "execution_count": 190,
     "metadata": {},
     "output_type": "execute_result"
    }
   ],
   "source": [
    "c"
   ]
  },
  {
   "cell_type": "code",
   "execution_count": null,
   "metadata": {},
   "outputs": [],
   "source": []
  },
  {
   "cell_type": "code",
   "execution_count": 191,
   "metadata": {},
   "outputs": [],
   "source": [
    "## bag of words which contain all words for which our model has to train"
   ]
  },
  {
   "cell_type": "code",
   "execution_count": null,
   "metadata": {},
   "outputs": [],
   "source": []
  },
  {
   "cell_type": "code",
   "execution_count": 192,
   "metadata": {},
   "outputs": [],
   "source": [
    "## ngrams"
   ]
  },
  {
   "cell_type": "code",
   "execution_count": 201,
   "metadata": {},
   "outputs": [
    {
     "data": {
      "text/plain": [
       "[('i', 'am', 'naman'),\n",
       " ('am', 'naman', '.'),\n",
       " ('naman', '.', 'i'),\n",
       " ('.', 'i', 'am'),\n",
       " ('i', 'am', 'pranaam'),\n",
       " ('am', 'pranaam', '.'),\n",
       " ('pranaam', '.', 'i'),\n",
       " ('.', 'i', 'am'),\n",
       " ('i', 'am', 'aman'),\n",
       " ('am', 'aman', '.'),\n",
       " ('aman', '.', 'what'),\n",
       " ('.', 'what', 'is'),\n",
       " ('what', 'is', 'your'),\n",
       " ('is', 'your', 'name'),\n",
       " ('your', 'name', '?'),\n",
       " ('name', '?', '/')]"
      ]
     },
     "execution_count": 201,
     "metadata": {},
     "output_type": "execute_result"
    }
   ],
   "source": [
    "#list(ngrams(a,10))\n",
    "list(ngrams(a,3))"
   ]
  },
  {
   "cell_type": "code",
   "execution_count": null,
   "metadata": {},
   "outputs": [],
   "source": []
  },
  {
   "cell_type": "code",
   "execution_count": null,
   "metadata": {},
   "outputs": [],
   "source": []
  },
  {
   "cell_type": "code",
   "execution_count": null,
   "metadata": {},
   "outputs": [],
   "source": []
  },
  {
   "cell_type": "code",
   "execution_count": null,
   "metadata": {},
   "outputs": [],
   "source": []
  }
 ],
 "metadata": {
  "kernelspec": {
   "display_name": "Python 3",
   "language": "python",
   "name": "python3"
  },
  "language_info": {
   "codemirror_mode": {
    "name": "ipython",
    "version": 3
   },
   "file_extension": ".py",
   "mimetype": "text/x-python",
   "name": "python",
   "nbconvert_exporter": "python",
   "pygments_lexer": "ipython3",
   "version": "3.7.6"
  }
 },
 "nbformat": 4,
 "nbformat_minor": 4
}
