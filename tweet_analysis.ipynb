{
 "cells": [
  {
   "cell_type": "code",
   "execution_count": 11,
   "metadata": {},
   "outputs": [],
   "source": [
    "import GetOldTweets3 as got"
   ]
  },
  {
   "cell_type": "code",
   "execution_count": null,
   "metadata": {},
   "outputs": [],
   "source": []
  },
  {
   "cell_type": "code",
   "execution_count": 31,
   "metadata": {},
   "outputs": [],
   "source": [
    "def get_old_tweet():\n",
    "    tweetCriteria = got.manager.TweetCriteria().setQuerySearch('corona virus') \\\n",
    "    .setSince(\"2020-01-01\")\\\n",
    "    .setUntil(\"2020-06-30\")\\\n",
    "    .setMaxTweets(10)\n",
    "    tweet = got.manager.TweetManager.getTweets(tweetCriteria)\n",
    "\t \n",
    "    tweets=[]\n",
    "    for text in tweet:\n",
    "        tweets.append(text.text)\n",
    "    #print(tweet.text)\n",
    "    return tweets"
   ]
  },
  {
   "cell_type": "code",
   "execution_count": 32,
   "metadata": {},
   "outputs": [
    {
     "data": {
      "text/plain": [
       "[\"What about the President’s response to COVID? The United States accounts for less than 5% of the world's population, yet (the latest Johns Hopkins data) the U.S. accounts for 25% of the world's coronavirus-related deaths. All thanks to Trump. Wear a fu$&amp;ing mask!\",\n",
       " 'que DESGRAÇA de corona vírus. Pqp meu Deeeuss o que vai ser',\n",
       " '\"The most immediate cost of US decline..comes from..disastrous response to..pandemic. Leadership failures were pervasive and catastrophic at every level--..president..CDC..FDA..state and local leaders\" Coronavirus Brings American Decline Out in the Open ',\n",
       " '#coronavirus ',\n",
       " 'Caralho eu não AGUENTO MAIS o coronavírus por que você não simplesmente MORRE microbio filho da putaaaaaaaa',\n",
       " \"So now they are in the Americas? Trump's response will be worth watching when these beasties head north! Welcome to the second half of 2020! Now LOCUST swarm heads towards Brazil as the country struggles to cope with spiralling coronavirus infections \",\n",
       " ' Colombia cerca de los 100.000 contagios de coronavirus El Ministerio de Salud reportó 3.274 casos nuevos de coronavirus. La cifra nacional asciende 95.043. El ministerio reportó 117 nuevos decesos por el virus. La cifra de muertos asciende a 3.223. https://bit.ly/31qVySk',\n",
       " 'Over half a million people have died from the coronavirus, according to data from Johns Hopkins University https://www.businessinsider.com/over-500000-death-toll-coronavirus-johns-hopkins-2020-6?utmSource=twitter&amp;utmContent=referral&amp;utmTerm=topbar&amp;referrer=twitter via @businessinsider',\n",
       " 'La prevención siempre será clave a la hora de evitar la propagación del coronavirus #ACEPRecomienda',\n",
       " 'Bueno esa tanda de dinosaurios están en la mesa porque son pobreTero y buscan salarios que no ganan en sus clínicas pero lo triste es que el coronavirus le gusta esa carne vieja y tan en riesgo de vida']"
      ]
     },
     "execution_count": 32,
     "metadata": {},
     "output_type": "execute_result"
    }
   ],
   "source": [
    "get_old_tweet()"
   ]
  },
  {
   "cell_type": "code",
   "execution_count": null,
   "metadata": {},
   "outputs": [],
   "source": []
  },
  {
   "cell_type": "code",
   "execution_count": null,
   "metadata": {},
   "outputs": [],
   "source": []
  }
 ],
 "metadata": {
  "kernelspec": {
   "display_name": "Python 3",
   "language": "python",
   "name": "python3"
  },
  "language_info": {
   "codemirror_mode": {
    "name": "ipython",
    "version": 3
   },
   "file_extension": ".py",
   "mimetype": "text/x-python",
   "name": "python",
   "nbconvert_exporter": "python",
   "pygments_lexer": "ipython3",
   "version": "3.7.6"
  }
 },
 "nbformat": 4,
 "nbformat_minor": 4
}
